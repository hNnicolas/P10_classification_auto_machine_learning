{
 "cells": [
  {
   "cell_type": "markdown",
   "id": "41182c9b",
   "metadata": {},
   "source": [
    "# HR Analytics – Analyse et Préparation des Données\n",
    "## Projet TechNova Partners\n",
    "Notebook Jupyter fonctionnel pour l'exploration, préparation et modélisation."
   ]
  },
  {
   "cell_type": "code",
   "execution_count": null,
   "id": "70a4575f",
   "metadata": {},
   "outputs": [],
   "source": [
    "# Import des librairies\n",
    "import pandas as pd\n",
    "import numpy as np\n",
    "import matplotlib.pyplot as plt\n",
    "import seaborn as sns\n",
    "\n",
    "from sklearn.model_selection import train_test_split\n",
    "from sklearn.preprocessing import OneHotEncoder, OrdinalEncoder\n",
    "from sklearn.impute import SimpleImputer\n",
    "from sklearn.dummy import DummyClassifier\n",
    "from sklearn.linear_model import LogisticRegression\n",
    "from sklearn.ensemble import RandomForestClassifier\n",
    "from sklearn.metrics import classification_report, confusion_matrix\n",
    "\n",
    "# Affichage inline pour Jupyter\n",
    "%matplotlib inline\n",
    "sns.set(style='whitegrid')\n",
    "pd.set_option('display.max_columns', None)"
   ]
  },
  {
   "cell_type": "markdown",
   "id": "14459853",
   "metadata": {},
   "source": [
    "## 1. Chargement des fichiers"
   ]
  },
  {
   "cell_type": "code",
   "execution_count": null,
   "id": "cbe4693e",
   "metadata": {},
   "outputs": [],
   "source": [
    "sirh = pd.read_csv('data/extrait_sirh.csv')\n",
    "evals = pd.read_csv('data/extrait_eval.csv')\n",
    "sondage = pd.read_csv('data/extrait_sondage.csv')\n",
    "\n",
    "print('=== SIRH ===')\n",
    "display(sirh.head())\n",
    "print('=== Eval ===')\n",
    "display(evals.head())\n",
    "print('=== Sondage ===')\n",
    "display(sondage.head())"
   ]
  },
  {
   "cell_type": "markdown",
   "id": "bd8a2c83",
   "metadata": {},
   "source": [
    "## 2. Exploration des fichiers"
   ]
  },
  {
   "cell_type": "code",
   "execution_count": null,
   "id": "d3d1bc18",
   "metadata": {},
   "outputs": [],
   "source": [
    "print('--- Info SIRH ---')\n",
    "sirh.info()\n",
    "print('--- Info Eval ---')\n",
    "evals.info()\n",
    "print('--- Info Sondage ---')\n",
    "sondage.info()"
   ]
  },
  {
   "cell_type": "code",
   "execution_count": null,
   "id": "e7d12bd7",
   "metadata": {},
   "outputs": [],
   "source": [
    "print('--- Description SIRH ---')\n",
    "display(sirh.describe(include='all'))\n",
    "print('--- Description Eval ---')\n",
    "display(evals.describe(include='all'))\n",
    "print('--- Description Sondage ---')\n",
    "display(sondage.describe(include='all'))"
   ]
  },
  {
   "cell_type": "markdown",
   "id": "8fba57f2",
   "metadata": {},
   "source": [
    "## 3. Nettoyage et préparation des colonnes"
   ]
  },
  {
   "cell_type": "code",
   "execution_count": null,
   "id": "58564485",
   "metadata": {},
   "outputs": [],
   "source": [
    "# Normalisation des noms de colonnes\n",
    "sirh.columns = sirh.columns.str.lower().str.strip()\n",
    "evals.columns = evals.columns.str.lower().str.strip()\n",
    "sondage.columns = sondage.columns.str.lower().str.strip()\n",
    "\n",
    "# Création d'id_employee\n",
    "evals['id_employee'] = evals['eval_number'].str.replace('E_', '').astype(int)\n",
    "sondage = sondage.rename(columns={'code_sondage': 'id_employee'})"
   ]
  },
  {
   "cell_type": "markdown",
   "id": "1019c90f",
   "metadata": {},
   "source": [
    "## 4. Création du DataFrame central"
   ]
  },
  {
   "cell_type": "code",
   "execution_count": null,
   "id": "b41bd5b1",
   "metadata": {},
   "outputs": [],
   "source": [
    "df = pd.merge(sirh, evals, on='id_employee', how='inner')\n",
    "df = pd.merge(df, sondage, on='id_employee', how='inner')\n",
    "display(df.head())"
   ]
  },
  {
   "cell_type": "markdown",
   "id": "28877c5c",
   "metadata": {},
   "source": [
    "## 5. Statistiques descriptives"
   ]
  },
  {
   "cell_type": "code",
   "execution_count": null,
   "id": "710ed9ed",
   "metadata": {},
   "outputs": [],
   "source": [
    "print('=== Moyenne par statut de départ ===')\n",
    "display(df.groupby('a_quitte_l_entreprise').mean(numeric_only=True))"
   ]
  },
  {
   "cell_type": "markdown",
   "id": "4cb81d2b",
   "metadata": {},
   "source": [
    "## 6. Visualisations"
   ]
  },
  {
   "cell_type": "code",
   "execution_count": null,
   "id": "9d779015",
   "metadata": {},
   "outputs": [],
   "source": [
    "plt.figure(figsize=(6,4))\n",
    "sns.boxplot(x='a_quitte_l_entreprise', y='revenu_mensuel', data=df)\n",
    "plt.title(\"Revenu mensuel vs Départ de l'entreprise\")\n",
    "plt.show()\n",
    "\n",
    "plt.figure(figsize=(10,4))\n",
    "sns.countplot(x='poste', hue='a_quitte_l_entreprise', data=df)\n",
    "plt.title(\"Poste vs Départ de l'entreprise\")\n",
    "plt.xticks(rotation=45)\n",
    "plt.show()"
   ]
  },
  {
   "cell_type": "markdown",
   "id": "1dd23747",
   "metadata": {},
   "source": [
    "## 7. Préparation des données pour la modélisation"
   ]
  },
  {
   "cell_type": "code",
   "execution_count": null,
   "id": "5d678072",
   "metadata": {},
   "outputs": [],
   "source": [
    "# Séparation features et target\n",
    "X = df.drop(columns=['a_quitte_l_entreprise', 'id_employee'])\n",
    "y = df['a_quitte_l_entreprise']"
   ]
  },
  {
   "cell_type": "code",
   "execution_count": null,
   "id": "4ef6741d",
   "metadata": {},
   "outputs": [],
   "source": [
    "# Fonction d'encodage automatique\n",
    "def encode_categorical_features(df, ordinal_cols=None, nominal_cols=None):\n",
    "    df_encoded = df.copy()\n",
    "    \n",
    "    # Encodage ordinal\n",
    "    if ordinal_cols:\n",
    "        for col, categories in ordinal_cols.items():\n",
    "            enc = OrdinalEncoder(categories=[categories])\n",
    "            df_encoded[col] = enc.fit_transform(df[[col]])\n",
    "    \n",
    "    # Encodage nominal\n",
    "    if nominal_cols:\n",
    "        enc = OneHotEncoder(drop='first', sparse_output=False)\n",
    "        nominal_encoded = enc.fit_transform(df[nominal_cols])\n",
    "        nominal_encoded_df = pd.DataFrame(nominal_encoded, columns=enc.get_feature_names_out(nominal_cols), index=df.index)\n",
    "        df_encoded = pd.concat([df_encoded.drop(columns=nominal_cols), nominal_encoded_df], axis=1)\n",
    "    \n",
    "    return df_encoded"
   ]
  },
  {
   "cell_type": "code",
   "execution_count": null,
   "id": "b1ab4d0e",
   "metadata": {},
   "outputs": [],
   "source": [
    "ordinal_mapping = {'niveau_education': [1,2,3,4,5]}\n",
    "nominal_cols = ['genre', 'departement', 'poste', 'domaine_etude', 'ayant_enfants', 'frequence_deplacement', 'heure_supplementaires']\n",
    "\n",
    "X_encoded = encode_categorical_features(X, ordinal_cols=ordinal_mapping, nominal_cols=nominal_cols)\n",
    "display(X_encoded.head())"
   ]
  },
  {
   "cell_type": "markdown",
   "id": "3ad0c72f",
   "metadata": {},
   "source": [
    "## 8. Analyse des corrélations"
   ]
  },
  {
   "cell_type": "code",
   "execution_count": null,
   "id": "64ed54db",
   "metadata": {},
   "outputs": [],
   "source": [
    "numeric_cols = X_encoded.select_dtypes(exclude=['object']).columns\n",
    "\n",
    "plt.figure(figsize=(10,8))\n",
    "sns.heatmap(X_encoded[numeric_cols].corr(), annot=True, cmap='coolwarm')\n",
    "plt.title('Corrélations de Pearson')\n",
    "plt.show()\n",
    "\n",
    "sns.pairplot(pd.concat([X_encoded[numeric_cols], y], axis=1), hue='a_quitte_l_entreprise')\n",
    "plt.show()"
   ]
  },
  {
   "cell_type": "markdown",
   "id": "84d4fe35",
   "metadata": {},
   "source": [
    "## 9. Train/Test split et modélisation"
   ]
  },
  {
   "cell_type": "code",
   "execution_count": null,
   "id": "fe55cef1",
   "metadata": {},
   "outputs": [],
   "source": [
    "# Split train/test\n",
    "X_train, X_test, y_train, y_test = train_test_split(X_encoded, y, test_size=0.2, random_state=42, stratify=y)\n",
    "print('Taille X_train:', X_train.shape)\n",
    "print('Taille X_test:', X_test.shape)"
   ]
  },
  {
   "cell_type": "code",
   "execution_count": null,
   "id": "e7839542",
   "metadata": {},
   "outputs": [],
   "source": [
    "# Liste des modèles\n",
    "models = {\n",
    "    'Dummy': DummyClassifier(strategy='most_frequent'),\n",
    "    'LogisticRegression': LogisticRegression(max_iter=1000),\n",
    "    'RandomForest': RandomForestClassifier(n_estimators=100, random_state=42, class_weight='balanced')\n",
    "}\n",
    "\n",
    "for name, model in models.items():\n",
    "    print(f'=== Modèle : {name} ===')\n",
    "    model.fit(X_train, y_train)\n",
    "    \n",
    "    print('Train Metrics:')\n",
    "    y_train_pred = model.predict(X_train)\n",
    "    print(classification_report(y_train, y_train_pred, zero_division=0))\n",
    "    \n",
    "    print('Test Metrics:')\n",
    "    y_test_pred = model.predict(X_test)\n",
    "    print(classification_report(y_test, y_test_pred, zero_division=0))"
   ]
  }
 ],
 "metadata": {
  "kernelspec": {
   "display_name": "Python 3",
   "language": "python",
   "name": "python3"
  },
  "language_info": {
   "name": "python",
   "version": "3.13"
  }
 },
 "nbformat": 4,
 "nbformat_minor": 5
}
